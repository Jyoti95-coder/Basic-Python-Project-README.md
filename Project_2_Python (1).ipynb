{
 "cells": [
  {
   "cell_type": "markdown",
   "id": "379fcefd-a176-4e5c-9ae9-1e433a4e0f7e",
   "metadata": {},
   "source": [
    "# PROJECT 2 "
   ]
  },
  {
   "cell_type": "markdown",
   "id": "f3cd2531-a77f-42d7-92ef-8e3462e84a4f",
   "metadata": {},
   "source": [
    "**DATA TYPES**"
   ]
  },
  {
   "cell_type": "markdown",
   "id": "05176173-c487-4e16-baa1-65c75d20471e",
   "metadata": {},
   "source": [
    "1.Mutable Data types : List , Set , Dictionary"
   ]
  },
  {
   "cell_type": "markdown",
   "id": "95cb0cfd-ea0e-40bc-b071-6c9e89074029",
   "metadata": {},
   "source": [
    "2.Immutable Data types : Tuples , Integer , Float , Frozenset"
   ]
  },
  {
   "cell_type": "markdown",
   "id": "fce1ac61-0cb0-474b-b4b9-5ecc00e1e57b",
   "metadata": {},
   "source": [
    "**DATA STRUCTURES**"
   ]
  },
  {
   "cell_type": "markdown",
   "id": "60924f17-20be-40b3-a5e4-fb329a6f5418",
   "metadata": {},
   "source": [
    "**1.TUPLES**"
   ]
  },
  {
   "cell_type": "code",
   "execution_count": 1,
   "id": "d9ba4604-b42a-4f2d-9eae-b4b33efb66ba",
   "metadata": {},
   "outputs": [
    {
     "data": {
      "text/plain": [
       "(1, 2, 3, 4, 5)"
      ]
     },
     "execution_count": 1,
     "metadata": {},
     "output_type": "execute_result"
    }
   ],
   "source": [
    "Tuple = (1,2,3,4,5)\n",
    "Tuple"
   ]
  },
  {
   "cell_type": "code",
   "execution_count": 4,
   "id": "fcbdab47-99f0-4363-87a3-70f3a98a4fa2",
   "metadata": {},
   "outputs": [
    {
     "name": "stdout",
     "output_type": "stream",
     "text": [
      "['__add__', '__class__', '__class_getitem__', '__contains__', '__delattr__', '__dir__', '__doc__', '__eq__', '__format__', '__ge__', '__getattribute__', '__getitem__', '__getnewargs__', '__getstate__', '__gt__', '__hash__', '__init__', '__init_subclass__', '__iter__', '__le__', '__len__', '__lt__', '__mul__', '__ne__', '__new__', '__reduce__', '__reduce_ex__', '__repr__', '__rmul__', '__setattr__', '__sizeof__', '__str__', '__subclasshook__', 'count', 'index']\n"
     ]
    }
   ],
   "source": [
    "#methods of tuple\n",
    "print(dir(Tuple))"
   ]
  },
  {
   "cell_type": "code",
   "execution_count": 5,
   "id": "482f26c7-457f-4b2e-8851-60b1c090d71b",
   "metadata": {},
   "outputs": [
    {
     "data": {
      "text/plain": [
       "35"
      ]
     },
     "execution_count": 5,
     "metadata": {},
     "output_type": "execute_result"
    }
   ],
   "source": [
    "#count of methods\n",
    "len(dir(Tuple))"
   ]
  },
  {
   "cell_type": "markdown",
   "id": "568c0344-c2bf-4f62-8f44-f78f24d8a2a6",
   "metadata": {},
   "source": [
    "**COUNT method and INDEX method of Tuple**\n"
   ]
  },
  {
   "cell_type": "code",
   "execution_count": 8,
   "id": "577915a6-5a90-4382-94c6-c3da860f582f",
   "metadata": {},
   "outputs": [
    {
     "data": {
      "text/plain": [
       "(1, 2, 3, 4, 5, 6, 7, 7, 6, 7, 3, 7, 2, 1, 1, 8, 3, 1, 1, 9, 2, 1)"
      ]
     },
     "execution_count": 8,
     "metadata": {},
     "output_type": "execute_result"
    }
   ],
   "source": [
    "example_1 = (1,2,3,4,5,6,7,7,6,7,3,7,2,1,1,8,3,1,1,9,2,1)\n",
    "example_1"
   ]
  },
  {
   "cell_type": "code",
   "execution_count": 9,
   "id": "340983ea-4bd9-4ccf-b603-c9b22aaa79d5",
   "metadata": {},
   "outputs": [
    {
     "data": {
      "text/plain": [
       "22"
      ]
     },
     "execution_count": 9,
     "metadata": {},
     "output_type": "execute_result"
    }
   ],
   "source": [
    "len(example_1)"
   ]
  },
  {
   "cell_type": "code",
   "execution_count": 10,
   "id": "98c9f559-c9db-437d-98cd-eaef24194ade",
   "metadata": {},
   "outputs": [
    {
     "data": {
      "text/plain": [
       "6"
      ]
     },
     "execution_count": 10,
     "metadata": {},
     "output_type": "execute_result"
    }
   ],
   "source": [
    "#1.To find number of times the 1 has occured in the tuple example_1:\n",
    "example_1.count(1)"
   ]
  },
  {
   "cell_type": "code",
   "execution_count": 12,
   "id": "553810d0-5882-423a-8928-341e546722ab",
   "metadata": {},
   "outputs": [
    {
     "data": {
      "text/plain": [
       "4"
      ]
     },
     "execution_count": 12,
     "metadata": {},
     "output_type": "execute_result"
    }
   ],
   "source": [
    "#2.To find the number of times 7 has occured in the tuple example_1:\n",
    "example_1.count(7)"
   ]
  },
  {
   "cell_type": "code",
   "execution_count": 13,
   "id": "20dbdac4-8364-49bb-b4a6-28172f9120df",
   "metadata": {},
   "outputs": [
    {
     "data": {
      "text/plain": [
       "2"
      ]
     },
     "execution_count": 13,
     "metadata": {},
     "output_type": "execute_result"
    }
   ],
   "source": [
    "#3.To find the index number of 3 in the tuple example_1:\n",
    "example_1.index(3)"
   ]
  },
  {
   "cell_type": "code",
   "execution_count": 14,
   "id": "d9c63924-6fd6-490d-a902-17d2054c82f6",
   "metadata": {},
   "outputs": [
    {
     "data": {
      "text/plain": [
       "10"
      ]
     },
     "execution_count": 14,
     "metadata": {},
     "output_type": "execute_result"
    }
   ],
   "source": [
    "#4.To find the index number of second occurence of 3 in the tuple example_1:\n",
    "example_1.index(3,(example_1.index(3)+1))"
   ]
  },
  {
   "cell_type": "code",
   "execution_count": 15,
   "id": "477f8c4e-7ec1-47fc-864b-88e916fc38bd",
   "metadata": {},
   "outputs": [
    {
     "data": {
      "text/plain": [
       "8"
      ]
     },
     "execution_count": 15,
     "metadata": {},
     "output_type": "execute_result"
    }
   ],
   "source": [
    "#5.To find the index number of  second occurence of 6 in the tuple example_1:\n",
    "example_1.index(6,(example_1.index(6)+1))"
   ]
  },
  {
   "cell_type": "code",
   "execution_count": 16,
   "id": "02b8cd26-e90a-4fc6-9f1d-88f2fb781727",
   "metadata": {},
   "outputs": [
    {
     "data": {
      "text/plain": [
       "16"
      ]
     },
     "execution_count": 16,
     "metadata": {},
     "output_type": "execute_result"
    }
   ],
   "source": [
    "#6.To find the index of third occurence of 3 in the tuple example_1:(manually)\n",
    "example_1.index(3,(10+1))"
   ]
  },
  {
   "cell_type": "code",
   "execution_count": 17,
   "id": "6a56610d-5273-4a39-9686-4091912361ec",
   "metadata": {},
   "outputs": [
    {
     "data": {
      "text/plain": [
       "16"
      ]
     },
     "execution_count": 17,
     "metadata": {},
     "output_type": "execute_result"
    }
   ],
   "source": [
    "#7.To find the index of third occurence of 3 in the tuple example_1:(using indexes)\n",
    "example_1.index(3,(example_1.index(3,(example_1.index(3)+1))+1))"
   ]
  },
  {
   "cell_type": "markdown",
   "id": "7f19388c-3edc-46ca-beb6-78b34b4512dd",
   "metadata": {},
   "source": [
    "**LOOPING on Tuples**"
   ]
  },
  {
   "cell_type": "code",
   "execution_count": 25,
   "id": "fb6e7b8d-8320-449b-95a0-25f123267dd0",
   "metadata": {},
   "outputs": [
    {
     "name": "stdout",
     "output_type": "stream",
     "text": [
      "('Jyoti', 'Nishant', 'Avyaansh', 'Dhanashree', 'shree', 'Preeti', 'Keerti', 'Nisha', 'Krishna', 'Radha', 'Usha', 'Isha', 'Emliee', 'Veer', 'Om')\n"
     ]
    }
   ],
   "source": [
    "names = (\"Jyoti\",\"Nishant\",\"Avyaansh\",\"Dhanashree\",\"shree\",\"Preeti\",\"Keerti\",\"Nisha\",\"Krishna\",\"Radha\",\"Usha\",\"Isha\",\"Emliee\",\"Veer\",\"Om\")\n",
    "print(names)"
   ]
  },
  {
   "cell_type": "code",
   "execution_count": 30,
   "id": "2951590e-b46e-40a2-8b95-8ffda4278230",
   "metadata": {},
   "outputs": [
    {
     "name": "stdout",
     "output_type": "stream",
     "text": [
      "Index 2 . Avyaansh\n",
      "Index 4 . shree\n",
      "Index 6 . Keerti\n",
      "Index 8 . Krishna\n",
      "Index 10 . Usha\n",
      "Index 12 . Emliee\n",
      "Index 14 . Om\n"
     ]
    }
   ],
   "source": [
    "#8.Display names which are coming at indexes which are a multiple of 2:(looping on index)\n",
    "for i in range(1,len(names)):\n",
    "    if i%2 == 0:\n",
    "      print(\"Index\",i,\".\",names[i],end = \"\\n\")"
   ]
  },
  {
   "cell_type": "code",
   "execution_count": 31,
   "id": "fb56c01d-7261-4733-b411-b902dbee1bd8",
   "metadata": {},
   "outputs": [
    {
     "name": "stdout",
     "output_type": "stream",
     "text": [
      "Avyaansh\n",
      "Usha\n",
      "Isha\n",
      "Emliee\n",
      "Om\n"
     ]
    }
   ],
   "source": [
    "#9.Display names that start with vowels:\n",
    "for i in names:\n",
    "    if i.startswith(\"a\") or i.startswith(\"A\"):\n",
    "        print(i)\n",
    "    elif i.startswith(\"e\") or i.startswith(\"E\"):\n",
    "        print(i)\n",
    "    elif i.startswith(\"i\") or i.startswith(\"I\"):\n",
    "        print(i)\n",
    "    elif i.startswith(\"o\") or i.startswith(\"O\"):\n",
    "        print(i)\n",
    "    elif i.startswith(\"u\") or i.startswith(\"U\"):\n",
    "        print(i)\n",
    "    else:\n",
    "        pass\n",
    "   "
   ]
  },
  {
   "cell_type": "code",
   "execution_count": 32,
   "id": "32f74284-b230-4899-93de-375d1c1cee2b",
   "metadata": {},
   "outputs": [
    {
     "name": "stdout",
     "output_type": "stream",
     "text": [
      "Jyoti  \n",
      "Nishant  \n",
      "Avyaansh  \n",
      "Dhanashree  \n",
      "shree  \n",
      "Preeti  \n",
      "Keerti  \n",
      "Nisha  \n",
      "Krishna  \n",
      "Radha  \n",
      "Emliee  \n"
     ]
    }
   ],
   "source": [
    "#10.Display names whose length is greater than 4:\n",
    "for i in names:\n",
    "    if len(i) > 4:\n",
    "        print(i,\" \")"
   ]
  },
  {
   "cell_type": "code",
   "execution_count": 42,
   "id": "7a093c23-a9a2-4b5c-a433-9bcc62f45386",
   "metadata": {},
   "outputs": [
    {
     "name": "stdout",
     "output_type": "stream",
     "text": [
      "(1, 2, 3, 4, 5, 6, 7, 8, 9, 10, 11, 12, 13, 14, 15, 16, 17, 18, 19, 20, 21, 22, 23, 24, 25, 26, 27, 28, 29, 30, 31, 32, 33, 34, 35, 36, 37, 38, 39, 40, 41, 42, 43, 44, 45, 46, 47, 48, 49, 50, 51, 52, 53, 54, 55, 56, 57, 58, 59, 60, 61, 62, 63, 64, 65, 66, 67, 68, 69, 70, 71, 72, 73, 74, 75, 76, 77, 78, 79, 80, 81, 82, 83, 84, 85, 86, 87, 88, 89, 90, 91, 92, 93, 94, 95, 96, 97, 98, 99, 100)\n"
     ]
    }
   ],
   "source": [
    "#11.Forming a tuple using range() function:\n",
    "numbers=tuple(range(1,101,1))\n",
    "print(numbers)"
   ]
  },
  {
   "cell_type": "code",
   "execution_count": 53,
   "id": "1d9f640c-39b8-4ce6-8b29-427201a13284",
   "metadata": {},
   "outputs": [
    {
     "name": "stdout",
     "output_type": "stream",
     "text": [
      "2,4,6,8,10,12,14,16,18,20,22,24,26,28,30,32,34,36,38,40,42,44,46,48,50,52,54,56,58,60,62,64,66,68,70,72,74,76,78,80,82,84,86,88,90,92,94,96,98,100, are the EVEN numbers in the given tuple.\n"
     ]
    }
   ],
   "source": [
    "#12.To find the even numbers in the tuple numbers:\n",
    "for i in numbers:\n",
    "  if i%2 == 0:\n",
    "     print(i,end=\",\")\n",
    "print(\" are the EVEN numbers in the given tuple.\")"
   ]
  },
  {
   "cell_type": "code",
   "execution_count": 57,
   "id": "79e56f18-bbc4-4dea-9e7b-535fdac3429c",
   "metadata": {},
   "outputs": [
    {
     "name": "stdout",
     "output_type": "stream",
     "text": [
      "Before swapping x: (10, 20, 30) y: (40, 50, 60)\n",
      "After swapping x: (40, 50, 60) y: (10, 20, 30)\n"
     ]
    }
   ],
   "source": [
    "#13.Swapping the two numbers in a tuple:\n",
    "x = (10,20,30)\n",
    "y = (40,50,60)\n",
    "print(\"Before swapping\",\"x:\",x,\"y:\",y)\n",
    "(x,y) = (y,x)\n",
    "print(\"After swapping\",\"x:\",x,\"y:\",y)"
   ]
  },
  {
   "cell_type": "markdown",
   "id": "df18fde9-3296-4d1c-837d-1ee82e1b8860",
   "metadata": {},
   "source": [
    "**LIST**"
   ]
  },
  {
   "cell_type": "code",
   "execution_count": null,
   "id": "d2ae2f3b-4d5b-44bd-b267-b489eed2f582",
   "metadata": {},
   "outputs": [],
   "source": []
  },
  {
   "cell_type": "code",
   "execution_count": null,
   "id": "ee3fcce2-f516-4104-8746-6d7ebcb4bd2d",
   "metadata": {},
   "outputs": [],
   "source": []
  },
  {
   "cell_type": "code",
   "execution_count": 58,
   "id": "ea6a56db-e3b5-445b-918e-ad7bc64c6946",
   "metadata": {},
   "outputs": [],
   "source": [
    "f = [15, 20, 23, 45, 60, 78, 91, 65, 78, 72, 60, 21, 35, 36, 40, 50, 88,33,11, 8, 4]"
   ]
  },
  {
   "cell_type": "code",
   "execution_count": 63,
   "id": "273467fc-b130-4c1e-bffe-416df23a15be",
   "metadata": {},
   "outputs": [
    {
     "name": "stdout",
     "output_type": "stream",
     "text": [
      "20 60 78 78 72 60 36 40 50 88 8 4 are the even values in the list 'f'\n"
     ]
    }
   ],
   "source": [
    "#14.Display the even values of the list:\n",
    "for i in f:\n",
    "    if i%2 == 0:\n",
    "        print(i,end = \" \")\n",
    "print(\"are the even values in the list 'f'\")"
   ]
  },
  {
   "cell_type": "code",
   "execution_count": 70,
   "id": "19ce2d73-7ba2-4cda-97ea-c4d5228181aa",
   "metadata": {},
   "outputs": [
    {
     "name": "stdout",
     "output_type": "stream",
     "text": [
      "Multiples of 5 in the list:\n",
      "15\n",
      "20\n",
      "45\n",
      "60\n",
      "65\n",
      "60\n",
      "35\n",
      "40\n",
      "50\n"
     ]
    }
   ],
   "source": [
    "#15.Display the values from the list that are multiple of 5:\n",
    "print(\"Multiples of 5 in the list:\")\n",
    "for i in f:\n",
    "    if i%5 == 0:\n",
    "        print(i)\n"
   ]
  },
  {
   "cell_type": "code",
   "execution_count": 80,
   "id": "3f41a8e7-4941-4be8-b00e-ad4142374644",
   "metadata": {},
   "outputs": [],
   "source": [
    "names = ['Galish', 'Akashay', 'Riya', 'kartik', 'Rani', 'Satish', 'Vishal', 'Jyoti', 'Dhanu', 'veer', 'Jaz', 'nirmala', 'Ankita', 'suraj','shraddha']"
   ]
  },
  {
   "cell_type": "code",
   "execution_count": 81,
   "id": "883f2d80-2566-43e5-a4bc-d9c25541ebc6",
   "metadata": {},
   "outputs": [
    {
     "name": "stdout",
     "output_type": "stream",
     "text": [
      "Akashay\n",
      "kartik\n",
      "Satish\n",
      "Jyoti\n",
      "veer\n",
      "nirmala\n",
      "suraj\n"
     ]
    }
   ],
   "source": [
    "#16.Display the names at odd indexes:\n",
    "for i in range(len(names)):\n",
    "    if i%2 != 0:\n",
    "        print(names[i])"
   ]
  },
  {
   "cell_type": "code",
   "execution_count": 82,
   "id": "ca8c83c1-40dd-4980-b720-9b6831a7db47",
   "metadata": {},
   "outputs": [
    {
     "data": {
      "text/plain": [
       "'Satish'"
      ]
     },
     "execution_count": 82,
     "metadata": {},
     "output_type": "execute_result"
    }
   ],
   "source": [
    "#17.Display the names at 5th and 9th index:\n",
    "fifth_index_value = names[5]\n",
    "fifth_index_value\n"
   ]
  },
  {
   "cell_type": "code",
   "execution_count": 83,
   "id": "c80d0474-921c-454e-998d-689be55c1611",
   "metadata": {},
   "outputs": [
    {
     "data": {
      "text/plain": [
       "'veer'"
      ]
     },
     "execution_count": 83,
     "metadata": {},
     "output_type": "execute_result"
    }
   ],
   "source": [
    "ninth_index_value = names[9]\n",
    "ninth_index_value"
   ]
  },
  {
   "cell_type": "code",
   "execution_count": 86,
   "id": "8bef2f2a-bef4-4d82-a828-a0c775387ad3",
   "metadata": {},
   "outputs": [
    {
     "name": "stdout",
     "output_type": "stream",
     "text": [
      "['Satish', 'suraj', 'shraddha']\n"
     ]
    }
   ],
   "source": [
    "#18.Append those names in a new list whose names are starting with 'S' or 's'. \n",
    "new_list = list()\n",
    "for i in names:\n",
    " if  i.startswith('S') or i.startswith('s'):\n",
    "  new_list.append(i)\n",
    "print(new_list)"
   ]
  },
  {
   "cell_type": "code",
   "execution_count": 87,
   "id": "af46a013-2d4c-44cb-8a4e-7fcf449aa28c",
   "metadata": {},
   "outputs": [],
   "source": [
    "#19.Creating a sorted merged list of two unsorted lists in Python\n",
    "list1 = [\"suraj\", \"anand\", \"gaurav\", \"aman\", \"kishore\"]\n",
    "list2 = [\"rohan\", \"ram\", \"mohan\", \"priya\", \"komal\"]"
   ]
  },
  {
   "cell_type": "code",
   "execution_count": 91,
   "id": "05605640-64d6-426f-a2c3-112344d5dfec",
   "metadata": {},
   "outputs": [
    {
     "name": "stdout",
     "output_type": "stream",
     "text": [
      "['aman', 'anand', 'gaurav', 'kishore', 'komal', 'mohan', 'priya', 'ram', 'rohan', 'suraj']\n"
     ]
    }
   ],
   "source": [
    "final_list = list1 + list2 \n",
    "final_list.sort() \n",
    "print(final_list) "
   ]
  },
  {
   "cell_type": "markdown",
   "id": "0291a8db-96da-41cd-9d18-64d4e7bcd64d",
   "metadata": {},
   "source": [
    "**SET**"
   ]
  },
  {
   "cell_type": "code",
   "execution_count": 92,
   "id": "d17d48f6-0958-4ed6-a6dc-4943f0f481c4",
   "metadata": {},
   "outputs": [
    {
     "name": "stdout",
     "output_type": "stream",
     "text": [
      "Initial Set: {34, 12, 21, 54}\n",
      "Updated Set: {32, 34, 12, 21, 54}\n"
     ]
    }
   ],
   "source": [
    "#20.Add 32 to the set:\n",
    "numbers = {21, 34, 54, 12}\n",
    "print('Initial Set:', numbers)\n",
    "numbers.add(32)\n",
    "print('Updated Set:', numbers)"
   ]
  },
  {
   "cell_type": "code",
   "execution_count": 93,
   "id": "0b6bda1f-c6f4-4b47-91a3-dc2332ea0aad",
   "metadata": {},
   "outputs": [
    {
     "name": "stdout",
     "output_type": "stream",
     "text": [
      "{2, 3}\n"
     ]
    }
   ],
   "source": [
    "#21.find similar values in both sets:\n",
    "set1 = {1, 2, 3}\n",
    "set2 = {2, 3, 4}\n",
    "intersection = set1.intersection(set2)     #intersection=set1 & set2\n",
    "print(intersection)  "
   ]
  },
  {
   "cell_type": "code",
   "execution_count": 95,
   "id": "39f4a4da-2008-4689-bd6a-ff73fd87aa35",
   "metadata": {},
   "outputs": [
    {
     "data": {
      "text/plain": [
       "{'apple'}"
      ]
     },
     "execution_count": 95,
     "metadata": {},
     "output_type": "execute_result"
    }
   ],
   "source": [
    "#22.find the similar values in both sets\n",
    "x = {\"apple\", \"banana\", \"cherry\"}\n",
    "y = {\"google\", \"microsoft\", \"apple\"}\n",
    "\n",
    "z = x.intersection(y)\n",
    "z\n"
   ]
  },
  {
   "cell_type": "code",
   "execution_count": 96,
   "id": "906c79a1-5e62-4fca-855e-6f9f8ee2ee40",
   "metadata": {},
   "outputs": [
    {
     "name": "stdout",
     "output_type": "stream",
     "text": [
      "{'c'}\n"
     ]
    }
   ],
   "source": [
    "#24.Join 3 sets, and return a set with items that is present in all 3 sets:\n",
    "x = {\"a\", \"b\", \"c\"}\n",
    "y = {\"c\", \"d\", \"e\"}\n",
    "z = {\"f\", \"g\", \"c\"}\n",
    "result = x.intersection(y, z)           #x & y & z\n",
    "print(result)"
   ]
  },
  {
   "cell_type": "code",
   "execution_count": 100,
   "id": "636dda2f-8dd0-4842-8442-5edcebbee386",
   "metadata": {},
   "outputs": [
    {
     "data": {
      "text/plain": [
       "{1, 2, 3, 4, 5}"
      ]
     },
     "execution_count": 100,
     "metadata": {},
     "output_type": "execute_result"
    }
   ],
   "source": [
    "#25.Combine the elements of both the set into a single set:\n",
    "A = {1,2,3}  \n",
    "B = {3,4,5}\n",
    "union_res=A.union(B)\n",
    "union_res"
   ]
  },
  {
   "cell_type": "code",
   "execution_count": 2,
   "id": "4b1e665c-983d-4ad1-87d3-f2e544aa65b3",
   "metadata": {},
   "outputs": [
    {
     "name": "stdout",
     "output_type": "stream",
     "text": [
      "['__and__', '__class__', '__class_getitem__', '__contains__', '__delattr__', '__dir__', '__doc__', '__eq__', '__format__', '__ge__', '__getattribute__', '__getstate__', '__gt__', '__hash__', '__iand__', '__init__', '__init_subclass__', '__ior__', '__isub__', '__iter__', '__ixor__', '__le__', '__len__', '__lt__', '__ne__', '__new__', '__or__', '__rand__', '__reduce__', '__reduce_ex__', '__repr__', '__ror__', '__rsub__', '__rxor__', '__setattr__', '__sizeof__', '__str__', '__sub__', '__subclasshook__', '__xor__', 'add', 'clear', 'copy', 'difference', 'difference_update', 'discard', 'intersection', 'intersection_update', 'isdisjoint', 'issubset', 'issuperset', 'pop', 'remove', 'symmetric_difference', 'symmetric_difference_update', 'union', 'update']\n"
     ]
    }
   ],
   "source": [
    "print(dir(set))"
   ]
  },
  {
   "cell_type": "code",
   "execution_count": 3,
   "id": "9bffdae5-c193-4457-8809-0fe56fca09aa",
   "metadata": {},
   "outputs": [],
   "source": [
    "#26. find the difference of two sets:(use of difference and difference update)\n",
    "s1 = {10, 20, 30, 40, 50}\n",
    "s2 = {30, 40, 50, 60, 70, 80}"
   ]
  },
  {
   "cell_type": "code",
   "execution_count": 4,
   "id": "0a192c0b-e1f1-4fa9-97cb-abdce4f322ce",
   "metadata": {},
   "outputs": [
    {
     "data": {
      "text/plain": [
       "{10, 20}"
      ]
     },
     "execution_count": 4,
     "metadata": {},
     "output_type": "execute_result"
    }
   ],
   "source": [
    "s1.difference(s2)     #s1 - s2....elements present in s1 but not in s2"
   ]
  },
  {
   "cell_type": "code",
   "execution_count": 7,
   "id": "8e928712-a988-4b32-af1d-dea749a2dd25",
   "metadata": {},
   "outputs": [],
   "source": [
    "s1.difference_update(s2)     #s1 - s2....elements present in s1 but not in s2 and updates the set s1"
   ]
  },
  {
   "cell_type": "code",
   "execution_count": 8,
   "id": "b470464d-e4dc-4fbc-bf5d-ddbf8b3b7ecc",
   "metadata": {},
   "outputs": [
    {
     "data": {
      "text/plain": [
       "{10, 20}"
      ]
     },
     "execution_count": 8,
     "metadata": {},
     "output_type": "execute_result"
    }
   ],
   "source": [
    "s1"
   ]
  },
  {
   "cell_type": "code",
   "execution_count": 9,
   "id": "a5c4c395-56db-4743-aaa8-f246ea021f72",
   "metadata": {},
   "outputs": [
    {
     "data": {
      "text/plain": [
       "{30, 40, 50, 60, 70, 80}"
      ]
     },
     "execution_count": 9,
     "metadata": {},
     "output_type": "execute_result"
    }
   ],
   "source": [
    "s2.difference(s1)    #s2 - s1....elements present in s2 but not in s1  "
   ]
  },
  {
   "cell_type": "markdown",
   "id": "0be89453-35f8-458a-9b04-dcae75705b9a",
   "metadata": {},
   "source": [
    "**LIST COMPREHENSION**"
   ]
  },
  {
   "cell_type": "code",
   "execution_count": 10,
   "id": "3c6ac7d8-dcef-4819-994e-7c05329703ff",
   "metadata": {},
   "outputs": [
    {
     "data": {
      "text/plain": [
       "[100, 200, 300, 400, 500]"
      ]
     },
     "execution_count": 10,
     "metadata": {},
     "output_type": "execute_result"
    }
   ],
   "source": [
    "#27.Please add the given data in a new list after multiplying each number by 10.\n",
    "NUM = [10,20,30,40,50]\n",
    "output = [(i*10) for i in  NUM]\n",
    "output"
   ]
  },
  {
   "cell_type": "code",
   "execution_count": 11,
   "id": "553eef1d-dacd-41e4-bcbb-8e5a4825a4d7",
   "metadata": {},
   "outputs": [],
   "source": [
    "names = ['Manshi','Swagath','Vijay','Gaya','Sidhesh','Pavithra','Dhivya','Chetan','Bilal','Yashwanth','Yash','Jyothi','Shiny','Kajol','Jaspreet','Shankar','Rasika','Akash','Satyajit']"
   ]
  },
  {
   "cell_type": "code",
   "execution_count": 30,
   "id": "04e998a8-3977-4916-9336-1e36da09e5d5",
   "metadata": {},
   "outputs": [
    {
     "name": "stdout",
     "output_type": "stream",
     "text": [
      "{'Manshi': 6, 'Vijay': 5, 'Sidhesh': 7, 'Dhivya': 6, 'Bilal': 5, 'Yash': 4, 'Shiny': 5, 'Jaspreet': 8, 'Rasika': 6, 'Satyajit': 8}\n"
     ]
    }
   ],
   "source": [
    "#28.You have to enter the lengths of each name which is present at even indexes in a new list:\n",
    "output_lengths = [(names[i],(len(names[i]))) for i in range(len(names)) if i%2==0]\n",
    "print(dict(output_lengths))"
   ]
  },
  {
   "cell_type": "code",
   "execution_count": 32,
   "id": "63de1793-7dfd-4570-a7de-da3d89fd0324",
   "metadata": {},
   "outputs": [
    {
     "name": "stdout",
     "output_type": "stream",
     "text": [
      "[2, 4, 6, 8]\n"
     ]
    }
   ],
   "source": [
    "#29.create a new list containing the double value of each element:\n",
    "numbers = [1, 2, 3, 4]\n",
    "doubled_numbers = [num * 2 for num in numbers]\n",
    "print(doubled_numbers)"
   ]
  },
  {
   "cell_type": "code",
   "execution_count": 33,
   "id": "f720b7d0-aaef-45e1-b05c-5c690303818e",
   "metadata": {},
   "outputs": [
    {
     "name": "stdout",
     "output_type": "stream",
     "text": [
      "[1, 4, 9, 16, 25]\n"
     ]
    }
   ],
   "source": [
    "#29.To find the square of each element in a list:\n",
    "numbers = [1, 2, 3, 4, 5]\n",
    "square_numbers = [num * num for num in numbers]\n",
    "print(square_numbers)"
   ]
  },
  {
   "cell_type": "code",
   "execution_count": 42,
   "id": "1018d7ed-a0ec-458f-8168-3b9f0ea7b266",
   "metadata": {},
   "outputs": [
    {
     "name": "stdout",
     "output_type": "stream",
     "text": [
      "['Odd', 'Even', 'Odd', 'Even', 'Odd', 'Even']\n"
     ]
    }
   ],
   "source": [
    "#30.Categorise the numbers as even or odd in list numbers (if-else)condition:\n",
    "numbers = [1, 2, 3, 4, 5, 6]\n",
    "even_odd_list = [\"Even\" if i % 2 == 0 else \"Odd\" for i in numbers]\n",
    "print(even_odd_list)"
   ]
  },
  {
   "cell_type": "code",
   "execution_count": 43,
   "id": "03845b23-d08e-4b80-9d6a-c1a220f01157",
   "metadata": {},
   "outputs": [
    {
     "name": "stdout",
     "output_type": "stream",
     "text": [
      "[0, 10, 20, 30, 40, 50, 60, 70, 80, 90]\n"
     ]
    }
   ],
   "source": [
    "#31.we find even numbers divisible by 5:(nested if condition)\n",
    "num_list = [y for y in range(100) if y % 2 == 0 if y % 5 == 0]\n",
    "print(num_list) \n"
   ]
  },
  {
   "cell_type": "code",
   "execution_count": 47,
   "id": "d82ca829-e089-4f4e-892f-af3cd3ce4ad8",
   "metadata": {},
   "outputs": [
    {
     "name": "stdout",
     "output_type": "stream",
     "text": [
      "['RRR', 'EEE', 'DDD']\n"
     ]
    }
   ],
   "source": [
    "#32.list comprehension on string:\n",
    "L = [x*3 for x in 'RED']\n",
    "print(L)  "
   ]
  },
  {
   "cell_type": "code",
   "execution_count": 48,
   "id": "310fa485-7a08-49ae-8bee-df7722765c6d",
   "metadata": {},
   "outputs": [
    {
     "name": "stdout",
     "output_type": "stream",
     "text": [
      "['o', 'i']\n"
     ]
    }
   ],
   "source": [
    "#33.find vowel in the string \"Jyoti\":\n",
    "vowels = \"aeiou\"\n",
    "result = [char for char in \"Jyoti\" if char in vowels]\n",
    "print(result)\n"
   ]
  },
  {
   "cell_type": "markdown",
   "id": "6be323fe-3cdd-4f6b-9c99-66c71c1d84b0",
   "metadata": {},
   "source": [
    "**FUNCTIONS**"
   ]
  },
  {
   "cell_type": "code",
   "execution_count": 57,
   "id": "16286971-c177-4df8-aa7d-023336cb1e87",
   "metadata": {},
   "outputs": [
    {
     "name": "stdin",
     "output_type": "stream",
     "text": [
      "Type the number you want to add?:  5\n",
      "Type the next number you want to add?:  6\n",
      "do you want to add another number?(Y/N):  y\n",
      "Type the next number you want to add?:  6\n",
      "do you want to add another number?(Y/N):  n\n"
     ]
    },
    {
     "name": "stdout",
     "output_type": "stream",
     "text": [
      "result: 17\n"
     ]
    }
   ],
   "source": [
    "#34.create a function to sum any amount of number you want to add: \n",
    "def sum(num1,num2):\n",
    "    return num1+num2\n",
    "a=int(input(\"Type the number you want to add?: \"))\n",
    "ask=\"Y\"\n",
    "while(ask==\"Y\" or ask==\"y\"):\n",
    "  b=int(input(\"Type the next number you want to add?: \"))\n",
    "  c=sum(a,b)\n",
    "  a=c\n",
    "  ask=input(\"do you want to add another number?(Y/N): \")\n",
    "else:\n",
    "    c=a\n",
    "    print (\"result:\",c)"
   ]
  },
  {
   "cell_type": "code",
   "execution_count": 58,
   "id": "426ba363-630d-497f-90b4-84175cd9e6d2",
   "metadata": {},
   "outputs": [],
   "source": [
    "#35.create a function to sum any amount of number you want to add:(using *args)\n",
    "def my_sum(*args):\n",
    "    total = 0\n",
    "    for val in args:\n",
    "        total += val\n",
    "    return total"
   ]
  },
  {
   "cell_type": "code",
   "execution_count": 59,
   "id": "adccfe9f-c06c-477a-b773-30d3a631d398",
   "metadata": {},
   "outputs": [
    {
     "data": {
      "text/plain": [
       "27"
      ]
     },
     "execution_count": 59,
     "metadata": {},
     "output_type": "execute_result"
    }
   ],
   "source": [
    "my_sum(1,5,8,4,9)"
   ]
  },
  {
   "cell_type": "code",
   "execution_count": 70,
   "id": "f54870df-435b-4e41-9e04-e506cc02fce9",
   "metadata": {},
   "outputs": [],
   "source": [
    "#36.create a udf which gives mean of the random values:\n",
    "def my_mean(*args):\n",
    "    sum = 0\n",
    "    for i in args:\n",
    "        sum = sum + i\n",
    "        mean = sum/len(args)\n",
    "    return mean"
   ]
  },
  {
   "cell_type": "code",
   "execution_count": 71,
   "id": "65845a9c-9987-42db-9e65-2652d8c348ab",
   "metadata": {},
   "outputs": [
    {
     "data": {
      "text/plain": [
       "3.5"
      ]
     },
     "execution_count": 71,
     "metadata": {},
     "output_type": "execute_result"
    }
   ],
   "source": [
    "my_mean(1,2,6,5)\n"
   ]
  },
  {
   "cell_type": "code",
   "execution_count": 72,
   "id": "1a3b442b-7ede-4aeb-a7d9-0831547776cb",
   "metadata": {},
   "outputs": [
    {
     "data": {
      "text/plain": [
       "49.6"
      ]
     },
     "execution_count": 72,
     "metadata": {},
     "output_type": "execute_result"
    }
   ],
   "source": [
    "my_mean(10,50,60,39,89)\n"
   ]
  },
  {
   "cell_type": "code",
   "execution_count": 19,
   "id": "d91d2984-32d1-4cff-9972-bc201428cd89",
   "metadata": {},
   "outputs": [],
   "source": [
    "#37.Create udf which gives names starting withn a as an output:\n",
    "Names = [\"Avyaansh\",\"Akashatha\",\"Jyoti\",\"VISHAL\",\"Priya\",\"Aliya\"]\n",
    "def get_names_starting_with_A(List):\n",
    "           result = [i for i in List if i.startswith('A') or i.startswith('a')]\n",
    "           print(result)  "
   ]
  },
  {
   "cell_type": "code",
   "execution_count": 2,
   "id": "173654b2-4f9f-4389-a80e-9c30647304af",
   "metadata": {},
   "outputs": [
    {
     "name": "stdout",
     "output_type": "stream",
     "text": [
      "['Avyaansh', 'Akashatha', 'Aliya']\n"
     ]
    }
   ],
   "source": [
    "get_names_starting_with_A(Names)"
   ]
  },
  {
   "cell_type": "code",
   "execution_count": 18,
   "id": "1f309942-5558-4c7d-9482-7f22c685f64e",
   "metadata": {},
   "outputs": [],
   "source": [
    "#38.create udf to check if given number is prime or not:\n",
    "def prime_no(num):\n",
    "    for i in range(2,(num/2),1):\n",
    "        if num % i == 0:\n",
    "            print(\"Given number is not prime\")\n",
    "            break\n",
    "        else:\n",
    "             print(\"Given number is prime\")"
   ]
  },
  {
   "cell_type": "markdown",
   "id": "5687acbf-c39e-4b35-8454-efbdf5122724",
   "metadata": {},
   "source": [
    "**LAMBDA FUNCTIONS**"
   ]
  },
  {
   "cell_type": "code",
   "execution_count": 3,
   "id": "f71f2248-ce3d-484c-99c1-4b418a2467f2",
   "metadata": {},
   "outputs": [
    {
     "name": "stdout",
     "output_type": "stream",
     "text": [
      "[2, 4, 6, 8, 10]\n"
     ]
    }
   ],
   "source": [
    "#39.doubling all elements in a lis using lambda function:\n",
    "my_list = [1, 2, 3, 4, 5]\n",
    "new_list = list(map(lambda x: x * 2, my_list))\n",
    "print(new_list) "
   ]
  },
  {
   "cell_type": "code",
   "execution_count": 5,
   "id": "4753787a-66bc-4bc9-916b-b079178db72f",
   "metadata": {},
   "outputs": [
    {
     "name": "stdout",
     "output_type": "stream",
     "text": [
      "25\n"
     ]
    }
   ],
   "source": [
    "#40.To find square of number using lambda function:\n",
    "square = lambda x: x * x\n",
    "print(square(5))  # Output: 10"
   ]
  },
  {
   "cell_type": "code",
   "execution_count": 6,
   "id": "253a7dc2-1ddc-4f2c-91a7-93f18988b8b8",
   "metadata": {},
   "outputs": [
    {
     "name": "stdout",
     "output_type": "stream",
     "text": [
      "odd\n"
     ]
    }
   ],
   "source": [
    "#41.Determining if a number is even or odd using lambda function:\n",
    "is_even = lambda x: 'even' if x % 2 == 0 else 'odd'\n",
    "print(is_even(7))"
   ]
  },
  {
   "cell_type": "code",
   "execution_count": 8,
   "id": "c24a1eeb-ba3f-4027-acfb-a5fa06edb91d",
   "metadata": {},
   "outputs": [
    {
     "name": "stdout",
     "output_type": "stream",
     "text": [
      "[(4, 1), (1, 2), (3, 5)]\n"
     ]
    }
   ],
   "source": [
    "#42.Sorting a list of tuples by the second element:\n",
    "points = [(3, 5), (1, 2), (4, 1)]\n",
    "sorted_points = sorted(points, key=lambda p: p[1])\n",
    "print(sorted_points) "
   ]
  },
  {
   "cell_type": "code",
   "execution_count": 14,
   "id": "53b15339-f818-48f0-8357-6d0a94877d80",
   "metadata": {},
   "outputs": [
    {
     "name": "stdout",
     "output_type": "stream",
     "text": [
      "[65, 39, 221]\n"
     ]
    }
   ],
   "source": [
    "#43.Find all numbers divisible by 13 in given list using lambda function:\n",
    "div_13 = lambda x: (x % 13 == 0)\n",
    "result = list(filter(div_13,my_list))\n",
    "print(result)"
   ]
  },
  {
   "cell_type": "code",
   "execution_count": 17,
   "id": "f5c28dec-75a6-45b9-9d6a-52d80009e959",
   "metadata": {},
   "outputs": [
    {
     "name": "stdout",
     "output_type": "stream",
     "text": [
      "['malayalam', 'noon', 'level', 'madam']\n"
     ]
    }
   ],
   "source": [
    "#44.To find all palindromes in list of strings:\n",
    "my_list = [\"malayalam\", \"noon\",\"level\", \"practice\", \"madam\"]\n",
    "func_palindrome = lambda x: x == \"\".join(reversed(x))\n",
    "result = list(filter(func_palindrome, my_list))\n",
    "print(result)"
   ]
  },
  {
   "cell_type": "markdown",
   "id": "d72cc6d2-095d-47a4-9e47-15f76f978523",
   "metadata": {},
   "source": [
    "**Types of Inheritance**"
   ]
  },
  {
   "cell_type": "markdown",
   "id": "4fda78d5-a24a-4c16-9c80-ebf964c5f81c",
   "metadata": {},
   "source": [
    "** Single inheritance **"
   ]
  },
  {
   "cell_type": "code",
   "execution_count": 145,
   "id": "b200f0ba-3a90-4bac-82d5-5ea914752900",
   "metadata": {},
   "outputs": [
    {
     "name": "stdout",
     "output_type": "stream",
     "text": [
      "NAME:Johny AGE:30\n"
     ]
    }
   ],
   "source": [
    "#45.Single inheritance(1 parent class and 1 child class)\n",
    "class Person:\n",
    "       def details(self, name, age):\n",
    "        self.name = name\n",
    "        self.age = age\n",
    "        print(f\"NAME:{self.name} AGE:{self.age}\")\n",
    "class Professor(Person):\n",
    "     def isProfessor(self):\n",
    "        print(f\"{self.name} is a Professor,{self.age} years old.\")\n",
    "obj = Professor()\n",
    "obj.details(\"Johny\",30)\n"
   ]
  },
  {
   "cell_type": "code",
   "execution_count": 146,
   "id": "f6bd6431-9a59-466f-bf4e-8e1297722645",
   "metadata": {},
   "outputs": [
    {
     "name": "stdout",
     "output_type": "stream",
     "text": [
      "Johny is a Professor,30 years old.\n"
     ]
    }
   ],
   "source": [
    "obj.isProfessor()"
   ]
  },
  {
   "cell_type": "markdown",
   "id": "d5cfc7f6-acde-4a87-8778-c999cd637aec",
   "metadata": {},
   "source": [
    "** Hierarchial inheritance **"
   ]
  },
  {
   "cell_type": "code",
   "execution_count": 77,
   "id": "8f80036b-1222-40c2-82b6-596271923441",
   "metadata": {},
   "outputs": [],
   "source": [
    "#46.Hierarchial inheritance(1 parent class and 2 child class) \n",
    "class Person:\n",
    "       def details(self, first_name, last_name, occupation):\n",
    "        self.first_name = first_name\n",
    "        self.last_name = last_name\n",
    "        self.occupation = occupation\n",
    "        print(f\"Name:{self.first_name} {self.last_name} \\nOccupation:{self.occupation}\")\n",
    "class Professor(Person):\n",
    "     def isProfessor(self):\n",
    "        print(f\"{self.first_name} {self.last_name} is a Professor\")\n",
    "class Doctor(Person):\n",
    "      def isdoctor(self):\n",
    "        print(f\"{self.first_name} {self.last_name} is a Doctor\")\n",
    "Doc=Doctor()\n",
    "Prof=Professor()"
   ]
  },
  {
   "cell_type": "code",
   "execution_count": 78,
   "id": "e3f649f6-3f64-445d-8aaf-84af3b1bc634",
   "metadata": {},
   "outputs": [
    {
     "name": "stdout",
     "output_type": "stream",
     "text": [
      "Name:Abhishek Dhage \n",
      "Occupation:Doctor\n",
      "Abhishek Dhage is a Doctor\n"
     ]
    }
   ],
   "source": [
    "Doc.details(\"Abhishek\",\"Dhage\",\"Doctor\")\n",
    "Doc.isdoctor()"
   ]
  },
  {
   "cell_type": "markdown",
   "id": "c2744852-3678-4fc8-a507-df054dd0a5d7",
   "metadata": {},
   "source": [
    "\n",
    "** Multilevel inheritance **"
   ]
  },
  {
   "cell_type": "code",
   "execution_count": 135,
   "id": "4250e459-79af-4b48-ad14-b054cb976035",
   "metadata": {},
   "outputs": [],
   "source": [
    "#47.Multilevel inheritance(grandparent class) \n",
    "class A:\n",
    "    def fam_details(self,grandfather_name,father_name,child_name):\n",
    "        self.grandfather_name = grandfather_name\n",
    "        self.father_name = father_name\n",
    "        self.child_name = child_name\n",
    "        print(f\"I am {self.grandfather_name} , {self.child_name}'s grandfather.\")\n",
    "class B(A):\n",
    "    def father(self):\n",
    "        print(f\"I am {self.father_name} , {self.child_name}'s father.\")\n",
    "class C(B):\n",
    "    def child(self):\n",
    "        print(f\"I am  {self.child_name}.\")\n"
   ]
  },
  {
   "cell_type": "code",
   "execution_count": 136,
   "id": "c8ad1954-6846-4360-9b9e-fc79a05393d1",
   "metadata": {},
   "outputs": [
    {
     "name": "stdout",
     "output_type": "stream",
     "text": [
      "I am Srinivas Dhage , Kiara Dhage's grandfather.\n"
     ]
    }
   ],
   "source": [
    "grandchild = C()\n",
    "grandchild.fam_details(\"Srinivas Dhage\",\"kiran Dhage\",\"Kiara Dhage\")"
   ]
  },
  {
   "cell_type": "code",
   "execution_count": 137,
   "id": "e5981783-452e-4937-a39c-446816f6dd8a",
   "metadata": {},
   "outputs": [
    {
     "name": "stdout",
     "output_type": "stream",
     "text": [
      "I am kiran Dhage , Kiara Dhage's father.\n"
     ]
    }
   ],
   "source": [
    "grandchild.father()"
   ]
  },
  {
   "cell_type": "code",
   "execution_count": 138,
   "id": "aac1ce80-fa15-485c-b1fa-cc7d513d267d",
   "metadata": {},
   "outputs": [
    {
     "name": "stdout",
     "output_type": "stream",
     "text": [
      "I am  Kiara Dhage.\n"
     ]
    }
   ],
   "source": [
    "grandchild.child()"
   ]
  },
  {
   "cell_type": "markdown",
   "id": "21c839ba-5ab7-476b-b67e-e7cfb0a3237e",
   "metadata": {},
   "source": [
    "** Multiple inheritance **"
   ]
  },
  {
   "cell_type": "code",
   "execution_count": 126,
   "id": "7c7b4b09-feff-4d1f-bdf8-b78c41840bc4",
   "metadata": {},
   "outputs": [],
   "source": [
    "#48.multiple inheritance(multiple parent class and 1 child class):\n",
    "class F:\n",
    "    def father(self):\n",
    "        print(\"I am father.\")\n",
    "class M:\n",
    "    def mother(self):\n",
    "        print(\"I am mother.\")\n",
    "class Child_M(F,M):\n",
    "    def info(self):\n",
    "        print(\"I am child.\")"
   ]
  },
  {
   "cell_type": "code",
   "execution_count": 128,
   "id": "daf09ccc-8523-4b60-b3ea-069918da8b69",
   "metadata": {},
   "outputs": [
    {
     "name": "stdout",
     "output_type": "stream",
     "text": [
      "I am mother.\n"
     ]
    }
   ],
   "source": [
    "object=Child_M()\n",
    "object.mother()"
   ]
  },
  {
   "cell_type": "code",
   "execution_count": 129,
   "id": "d3550202-0e4a-48a3-8b61-976d0da2d581",
   "metadata": {},
   "outputs": [
    {
     "name": "stdout",
     "output_type": "stream",
     "text": [
      "I am father.\n"
     ]
    }
   ],
   "source": [
    "object.father()"
   ]
  },
  {
   "cell_type": "code",
   "execution_count": 131,
   "id": "9b95209f-1550-4bd2-bb7d-19e1e6ccdc84",
   "metadata": {},
   "outputs": [
    {
     "name": "stdout",
     "output_type": "stream",
     "text": [
      "I am child.\n"
     ]
    }
   ],
   "source": [
    "object.info()"
   ]
  },
  {
   "cell_type": "markdown",
   "id": "0e712ad4-7669-4ba3-bd13-8f1ebeecb3ed",
   "metadata": {},
   "source": [
    "** Hybrid inheritance **"
   ]
  },
  {
   "cell_type": "code",
   "execution_count": null,
   "id": "543a319e-b269-4e44-9f28-7e2adb9ba71e",
   "metadata": {},
   "outputs": [],
   "source": [
    "#49.Hybrid inheritance:\n",
    "class A:\n",
    "    def fam_details(self,grandfather_name,father_name,mother_name,child_name):\n",
    "        self.grandfather_name = grandfather_name\n",
    "        self.father_name = father_name\n",
    "        self.mother_name = mother_name\n",
    "        self.child_name = child_name\n",
    "        print(f\"I am {self.grandfather_name} , {self.child_name}'s grandfather.\")\n",
    "class B(A):\n",
    "    def father(self):\n",
    "        print(f\"I am {self.father_name} , {self.child_name}'s father.\")\n",
    "class C(B):\n",
    "    def mother(self):\n",
    "        print(f\"I am {self.mother_name} , {self.child_name}'s mother.\")\n",
    "class D(B,C):\n",
    "    def child(self):\n",
    "        print(f\"I am {self.child_name}.\")"
   ]
  }
 ],
 "metadata": {
  "kernelspec": {
   "display_name": "Python 3 (ipykernel)",
   "language": "python",
   "name": "python3"
  },
  "language_info": {
   "codemirror_mode": {
    "name": "ipython",
    "version": 3
   },
   "file_extension": ".py",
   "mimetype": "text/x-python",
   "name": "python",
   "nbconvert_exporter": "python",
   "pygments_lexer": "ipython3",
   "version": "3.12.4"
  }
 },
 "nbformat": 4,
 "nbformat_minor": 5
}
